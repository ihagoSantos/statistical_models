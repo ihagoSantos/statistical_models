{
  "nbformat": 4,
  "nbformat_minor": 0,
  "metadata": {
    "colab": {
      "provenance": [],
      "authorship_tag": "ABX9TyNv7zhS0j5IzsBHO8vgPyH9",
      "include_colab_link": true
    },
    "kernelspec": {
      "name": "ir",
      "display_name": "R"
    },
    "language_info": {
      "name": "R"
    }
  },
  "cells": [
    {
      "cell_type": "markdown",
      "metadata": {
        "id": "view-in-github",
        "colab_type": "text"
      },
      "source": [
        "<a href=\"https://colab.research.google.com/github/ihagoSantos/statistical_models/blob/main/logistic_regression_with_r.ipynb\" target=\"_parent\"><img src=\"https://colab.research.google.com/assets/colab-badge.svg\" alt=\"Open In Colab\"/></a>"
      ]
    },
    {
      "cell_type": "markdown",
      "source": [
        "# Regressão Binária  no R"
      ],
      "metadata": {
        "id": "CXHR_daTEcJX"
      }
    },
    {
      "cell_type": "markdown",
      "source": [
        "## Carregando a base de dados\n",
        "O banco de dados do pacote aplore3 é chamado lowbwt. No conjunto temos 11 variáveis com informações referentes a 189 partos.\n",
        "As variáveis são:\n",
        "- ID: Código de identificação\n",
        "- Low: Baixo peso ao nascer\n",
        "- Age: idade da mãe (anos)\n",
        "- Lwt: Peso da mãe na última menstruação (Libras)\n",
        "- Race: Raça (1: Branca, 2: Preta, 3: Outra)\n",
        "- Smoke: Tabagismo durante a gravidez (1: não, 2: sim)\n",
        "- Plt: Histórico de trabalho de parto prematuro (1: Nenhum, 2: Um, 3: Dois, etc)\n",
        "- Ht: Histórico de hipertensão (1: Não, 2: sim)\n",
        "- Ui: Presença de irritabilidade uterina (1: não, 2: sim)\n",
        "- ftv: Número de consultas médicas durante o primeiro trimestre(1: nenhuma, 2: uma, 3: duas, etc)\n",
        "- bwt: Peso ao nascer registrado (gramas)\n"
      ],
      "metadata": {
        "id": "mLSpwShbE3xG"
      }
    },
    {
      "cell_type": "code",
      "execution_count": 2,
      "metadata": {
        "colab": {
          "base_uri": "https://localhost:8080/",
          "height": 1000
        },
        "id": "yMtfpEkPEQC3",
        "outputId": "0b7fbc31-9825-41dd-8b44-c34e2b01500c"
      },
      "outputs": [
        {
          "output_type": "stream",
          "name": "stderr",
          "text": [
            "Installing package into ‘/usr/local/lib/R/site-library’\n",
            "(as ‘lib’ is unspecified)\n",
            "\n",
            "Installing package into ‘/usr/local/lib/R/site-library’\n",
            "(as ‘lib’ is unspecified)\n",
            "\n",
            "also installing the dependency ‘pbapply’\n",
            "\n",
            "\n",
            "ResourceSelection 0.3-6 \t 2023-06-27\n",
            "\n"
          ]
        },
        {
          "output_type": "display_data",
          "data": {
            "text/html": [
              "<table class=\"dataframe\">\n",
              "<caption>A data.frame: 189 × 11</caption>\n",
              "<thead>\n",
              "\t<tr><th scope=col>id</th><th scope=col>low</th><th scope=col>age</th><th scope=col>lwt</th><th scope=col>race</th><th scope=col>smoke</th><th scope=col>ptl</th><th scope=col>ht</th><th scope=col>ui</th><th scope=col>ftv</th><th scope=col>bwt</th></tr>\n",
              "\t<tr><th scope=col>&lt;int&gt;</th><th scope=col>&lt;fct&gt;</th><th scope=col>&lt;int&gt;</th><th scope=col>&lt;int&gt;</th><th scope=col>&lt;fct&gt;</th><th scope=col>&lt;fct&gt;</th><th scope=col>&lt;fct&gt;</th><th scope=col>&lt;fct&gt;</th><th scope=col>&lt;fct&gt;</th><th scope=col>&lt;fct&gt;</th><th scope=col>&lt;int&gt;</th></tr>\n",
              "</thead>\n",
              "<tbody>\n",
              "\t<tr><td> 4</td><td>&lt; 2500 g</td><td>28</td><td>120</td><td>Other</td><td>Yes</td><td><span style=white-space:pre-wrap>One      </span></td><td>No </td><td>Yes</td><td><span style=white-space:pre-wrap>None     </span></td><td> 709</td></tr>\n",
              "\t<tr><td>10</td><td>&lt; 2500 g</td><td>29</td><td>130</td><td>White</td><td>No </td><td><span style=white-space:pre-wrap>None     </span></td><td>No </td><td>Yes</td><td>Two, etc.</td><td>1021</td></tr>\n",
              "\t<tr><td>11</td><td>&lt; 2500 g</td><td>34</td><td>187</td><td>Black</td><td>Yes</td><td><span style=white-space:pre-wrap>None     </span></td><td>Yes</td><td>No </td><td><span style=white-space:pre-wrap>None     </span></td><td>1135</td></tr>\n",
              "\t<tr><td>13</td><td>&lt; 2500 g</td><td>25</td><td>105</td><td>Other</td><td>No </td><td><span style=white-space:pre-wrap>One      </span></td><td>Yes</td><td>No </td><td><span style=white-space:pre-wrap>None     </span></td><td>1330</td></tr>\n",
              "\t<tr><td>15</td><td>&lt; 2500 g</td><td>25</td><td> 85</td><td>Other</td><td>No </td><td><span style=white-space:pre-wrap>None     </span></td><td>No </td><td>Yes</td><td><span style=white-space:pre-wrap>None     </span></td><td>1474</td></tr>\n",
              "\t<tr><td>16</td><td>&lt; 2500 g</td><td>27</td><td>150</td><td>Other</td><td>No </td><td><span style=white-space:pre-wrap>None     </span></td><td>No </td><td>No </td><td><span style=white-space:pre-wrap>None     </span></td><td>1588</td></tr>\n",
              "\t<tr><td>17</td><td>&lt; 2500 g</td><td>23</td><td> 97</td><td>Other</td><td>No </td><td><span style=white-space:pre-wrap>None     </span></td><td>No </td><td>Yes</td><td><span style=white-space:pre-wrap>One      </span></td><td>1588</td></tr>\n",
              "\t<tr><td>18</td><td>&lt; 2500 g</td><td>24</td><td>128</td><td>Black</td><td>No </td><td><span style=white-space:pre-wrap>One      </span></td><td>No </td><td>No </td><td><span style=white-space:pre-wrap>One      </span></td><td>1701</td></tr>\n",
              "\t<tr><td>19</td><td>&lt; 2500 g</td><td>24</td><td>132</td><td>Other</td><td>No </td><td><span style=white-space:pre-wrap>None     </span></td><td>Yes</td><td>No </td><td><span style=white-space:pre-wrap>None     </span></td><td>1729</td></tr>\n",
              "\t<tr><td>20</td><td>&lt; 2500 g</td><td>21</td><td>165</td><td>White</td><td>Yes</td><td><span style=white-space:pre-wrap>None     </span></td><td>Yes</td><td>No </td><td><span style=white-space:pre-wrap>One      </span></td><td>1790</td></tr>\n",
              "\t<tr><td>22</td><td>&lt; 2500 g</td><td>32</td><td>105</td><td>White</td><td>Yes</td><td><span style=white-space:pre-wrap>None     </span></td><td>No </td><td>No </td><td><span style=white-space:pre-wrap>None     </span></td><td>1818</td></tr>\n",
              "\t<tr><td>23</td><td>&lt; 2500 g</td><td>19</td><td> 91</td><td>White</td><td>Yes</td><td>Two, etc.</td><td>No </td><td>Yes</td><td><span style=white-space:pre-wrap>None     </span></td><td>1885</td></tr>\n",
              "\t<tr><td>24</td><td>&lt; 2500 g</td><td>25</td><td>115</td><td>Other</td><td>No </td><td><span style=white-space:pre-wrap>None     </span></td><td>No </td><td>No </td><td><span style=white-space:pre-wrap>None     </span></td><td>1893</td></tr>\n",
              "\t<tr><td>25</td><td>&lt; 2500 g</td><td>16</td><td>130</td><td>Other</td><td>No </td><td><span style=white-space:pre-wrap>None     </span></td><td>No </td><td>No </td><td><span style=white-space:pre-wrap>One      </span></td><td>1899</td></tr>\n",
              "\t<tr><td>26</td><td>&lt; 2500 g</td><td>25</td><td> 92</td><td>White</td><td>Yes</td><td><span style=white-space:pre-wrap>None     </span></td><td>No </td><td>No </td><td><span style=white-space:pre-wrap>None     </span></td><td>1928</td></tr>\n",
              "\t<tr><td>27</td><td>&lt; 2500 g</td><td>20</td><td>150</td><td>White</td><td>Yes</td><td><span style=white-space:pre-wrap>None     </span></td><td>No </td><td>No </td><td>Two, etc.</td><td>1928</td></tr>\n",
              "\t<tr><td>28</td><td>&lt; 2500 g</td><td>21</td><td>200</td><td>Black</td><td>No </td><td><span style=white-space:pre-wrap>None     </span></td><td>No </td><td>Yes</td><td>Two, etc.</td><td>1928</td></tr>\n",
              "\t<tr><td>29</td><td>&lt; 2500 g</td><td>24</td><td>155</td><td>White</td><td>Yes</td><td><span style=white-space:pre-wrap>One      </span></td><td>No </td><td>No </td><td><span style=white-space:pre-wrap>None     </span></td><td>1936</td></tr>\n",
              "\t<tr><td>30</td><td>&lt; 2500 g</td><td>21</td><td>103</td><td>Other</td><td>No </td><td><span style=white-space:pre-wrap>None     </span></td><td>No </td><td>No </td><td><span style=white-space:pre-wrap>None     </span></td><td>1970</td></tr>\n",
              "\t<tr><td>31</td><td>&lt; 2500 g</td><td>20</td><td>125</td><td>Other</td><td>No </td><td><span style=white-space:pre-wrap>None     </span></td><td>No </td><td>Yes</td><td><span style=white-space:pre-wrap>None     </span></td><td>2055</td></tr>\n",
              "\t<tr><td>32</td><td>&lt; 2500 g</td><td>25</td><td> 89</td><td>Other</td><td>No </td><td>Two, etc.</td><td>No </td><td>No </td><td><span style=white-space:pre-wrap>One      </span></td><td>2055</td></tr>\n",
              "\t<tr><td>33</td><td>&lt; 2500 g</td><td>19</td><td>102</td><td>White</td><td>No </td><td><span style=white-space:pre-wrap>None     </span></td><td>No </td><td>No </td><td>Two, etc.</td><td>2082</td></tr>\n",
              "\t<tr><td>34</td><td>&lt; 2500 g</td><td>19</td><td>112</td><td>White</td><td>Yes</td><td><span style=white-space:pre-wrap>None     </span></td><td>No </td><td>Yes</td><td><span style=white-space:pre-wrap>None     </span></td><td>2084</td></tr>\n",
              "\t<tr><td>35</td><td>&lt; 2500 g</td><td>26</td><td>117</td><td>White</td><td>Yes</td><td><span style=white-space:pre-wrap>One      </span></td><td>No </td><td>No </td><td><span style=white-space:pre-wrap>None     </span></td><td>2084</td></tr>\n",
              "\t<tr><td>36</td><td>&lt; 2500 g</td><td>24</td><td>138</td><td>White</td><td>No </td><td><span style=white-space:pre-wrap>None     </span></td><td>No </td><td>No </td><td><span style=white-space:pre-wrap>None     </span></td><td>2100</td></tr>\n",
              "\t<tr><td>37</td><td>&lt; 2500 g</td><td>17</td><td>130</td><td>Other</td><td>Yes</td><td><span style=white-space:pre-wrap>One      </span></td><td>No </td><td>Yes</td><td><span style=white-space:pre-wrap>None     </span></td><td>2125</td></tr>\n",
              "\t<tr><td>40</td><td>&lt; 2500 g</td><td>20</td><td>120</td><td>Black</td><td>Yes</td><td><span style=white-space:pre-wrap>None     </span></td><td>No </td><td>No </td><td>Two, etc.</td><td>2126</td></tr>\n",
              "\t<tr><td>42</td><td>&lt; 2500 g</td><td>22</td><td>130</td><td>White</td><td>Yes</td><td><span style=white-space:pre-wrap>One      </span></td><td>No </td><td>Yes</td><td><span style=white-space:pre-wrap>One      </span></td><td>2187</td></tr>\n",
              "\t<tr><td>43</td><td>&lt; 2500 g</td><td>27</td><td>130</td><td>Black</td><td>No </td><td><span style=white-space:pre-wrap>None     </span></td><td>No </td><td>Yes</td><td><span style=white-space:pre-wrap>None     </span></td><td>2187</td></tr>\n",
              "\t<tr><td>44</td><td>&lt; 2500 g</td><td>20</td><td> 80</td><td>Other</td><td>Yes</td><td><span style=white-space:pre-wrap>None     </span></td><td>No </td><td>Yes</td><td><span style=white-space:pre-wrap>None     </span></td><td>2211</td></tr>\n",
              "\t<tr><td>⋮</td><td>⋮</td><td>⋮</td><td>⋮</td><td>⋮</td><td>⋮</td><td>⋮</td><td>⋮</td><td>⋮</td><td>⋮</td><td>⋮</td></tr>\n",
              "\t<tr><td>196</td><td>&gt;= 2500 g</td><td>24</td><td>110</td><td>White</td><td>No </td><td>None</td><td>No </td><td>No </td><td><span style=white-space:pre-wrap>One      </span></td><td>3728</td></tr>\n",
              "\t<tr><td>197</td><td>&gt;= 2500 g</td><td>19</td><td>184</td><td>White</td><td>Yes</td><td>None</td><td>Yes</td><td>No </td><td><span style=white-space:pre-wrap>None     </span></td><td>3756</td></tr>\n",
              "\t<tr><td>199</td><td>&gt;= 2500 g</td><td>24</td><td>110</td><td>Other</td><td>No </td><td>One </td><td>No </td><td>No </td><td><span style=white-space:pre-wrap>None     </span></td><td>3770</td></tr>\n",
              "\t<tr><td>200</td><td>&gt;= 2500 g</td><td>23</td><td>110</td><td>White</td><td>No </td><td>None</td><td>No </td><td>No </td><td><span style=white-space:pre-wrap>One      </span></td><td>3770</td></tr>\n",
              "\t<tr><td>201</td><td>&gt;= 2500 g</td><td>20</td><td>120</td><td>Other</td><td>No </td><td>None</td><td>No </td><td>No </td><td><span style=white-space:pre-wrap>None     </span></td><td>3770</td></tr>\n",
              "\t<tr><td>202</td><td>&gt;= 2500 g</td><td>25</td><td>241</td><td>Black</td><td>No </td><td>None</td><td>Yes</td><td>No </td><td><span style=white-space:pre-wrap>None     </span></td><td>3790</td></tr>\n",
              "\t<tr><td>203</td><td>&gt;= 2500 g</td><td>30</td><td>112</td><td>White</td><td>No </td><td>None</td><td>No </td><td>No </td><td><span style=white-space:pre-wrap>One      </span></td><td>3799</td></tr>\n",
              "\t<tr><td>204</td><td>&gt;= 2500 g</td><td>22</td><td>169</td><td>White</td><td>No </td><td>None</td><td>No </td><td>No </td><td><span style=white-space:pre-wrap>None     </span></td><td>3827</td></tr>\n",
              "\t<tr><td>205</td><td>&gt;= 2500 g</td><td>18</td><td>120</td><td>White</td><td>Yes</td><td>None</td><td>No </td><td>No </td><td>Two, etc.</td><td>3856</td></tr>\n",
              "\t<tr><td>206</td><td>&gt;= 2500 g</td><td>16</td><td>170</td><td>Black</td><td>No </td><td>None</td><td>No </td><td>No </td><td>Two, etc.</td><td>3860</td></tr>\n",
              "\t<tr><td>207</td><td>&gt;= 2500 g</td><td>32</td><td>186</td><td>White</td><td>No </td><td>None</td><td>No </td><td>No </td><td>Two, etc.</td><td>3860</td></tr>\n",
              "\t<tr><td>208</td><td>&gt;= 2500 g</td><td>18</td><td>120</td><td>Other</td><td>No </td><td>None</td><td>No </td><td>No </td><td><span style=white-space:pre-wrap>One      </span></td><td>3884</td></tr>\n",
              "\t<tr><td>209</td><td>&gt;= 2500 g</td><td>29</td><td>130</td><td>White</td><td>Yes</td><td>None</td><td>No </td><td>No </td><td>Two, etc.</td><td>3884</td></tr>\n",
              "\t<tr><td>210</td><td>&gt;= 2500 g</td><td>33</td><td>117</td><td>White</td><td>No </td><td>None</td><td>No </td><td>Yes</td><td><span style=white-space:pre-wrap>One      </span></td><td>3912</td></tr>\n",
              "\t<tr><td>211</td><td>&gt;= 2500 g</td><td>20</td><td>170</td><td>White</td><td>Yes</td><td>None</td><td>No </td><td>No </td><td><span style=white-space:pre-wrap>None     </span></td><td>3940</td></tr>\n",
              "\t<tr><td>212</td><td>&gt;= 2500 g</td><td>28</td><td>134</td><td>Other</td><td>No </td><td>None</td><td>No </td><td>No </td><td><span style=white-space:pre-wrap>One      </span></td><td>3941</td></tr>\n",
              "\t<tr><td>213</td><td>&gt;= 2500 g</td><td>14</td><td>135</td><td>White</td><td>No </td><td>None</td><td>No </td><td>No </td><td><span style=white-space:pre-wrap>None     </span></td><td>3941</td></tr>\n",
              "\t<tr><td>214</td><td>&gt;= 2500 g</td><td>28</td><td>130</td><td>Other</td><td>No </td><td>None</td><td>No </td><td>No </td><td><span style=white-space:pre-wrap>None     </span></td><td>3969</td></tr>\n",
              "\t<tr><td>215</td><td>&gt;= 2500 g</td><td>25</td><td>120</td><td>White</td><td>No </td><td>None</td><td>No </td><td>No </td><td>Two, etc.</td><td>3983</td></tr>\n",
              "\t<tr><td>216</td><td>&gt;= 2500 g</td><td>16</td><td> 95</td><td>Other</td><td>No </td><td>None</td><td>No </td><td>No </td><td><span style=white-space:pre-wrap>One      </span></td><td>3997</td></tr>\n",
              "\t<tr><td>217</td><td>&gt;= 2500 g</td><td>20</td><td>158</td><td>White</td><td>No </td><td>None</td><td>No </td><td>No </td><td><span style=white-space:pre-wrap>One      </span></td><td>3997</td></tr>\n",
              "\t<tr><td>218</td><td>&gt;= 2500 g</td><td>26</td><td>160</td><td>Other</td><td>No </td><td>None</td><td>No </td><td>No </td><td><span style=white-space:pre-wrap>None     </span></td><td>4054</td></tr>\n",
              "\t<tr><td>219</td><td>&gt;= 2500 g</td><td>21</td><td>115</td><td>White</td><td>No </td><td>None</td><td>No </td><td>No </td><td><span style=white-space:pre-wrap>One      </span></td><td>4054</td></tr>\n",
              "\t<tr><td>220</td><td>&gt;= 2500 g</td><td>22</td><td>129</td><td>White</td><td>No </td><td>None</td><td>No </td><td>No </td><td><span style=white-space:pre-wrap>None     </span></td><td>4111</td></tr>\n",
              "\t<tr><td>221</td><td>&gt;= 2500 g</td><td>25</td><td>130</td><td>White</td><td>No </td><td>None</td><td>No </td><td>No </td><td>Two, etc.</td><td>4153</td></tr>\n",
              "\t<tr><td>222</td><td>&gt;= 2500 g</td><td>31</td><td>120</td><td>White</td><td>No </td><td>None</td><td>No </td><td>No </td><td>Two, etc.</td><td>4167</td></tr>\n",
              "\t<tr><td>223</td><td>&gt;= 2500 g</td><td>35</td><td>170</td><td>White</td><td>No </td><td>One </td><td>No </td><td>No </td><td><span style=white-space:pre-wrap>One      </span></td><td>4174</td></tr>\n",
              "\t<tr><td>224</td><td>&gt;= 2500 g</td><td>19</td><td>120</td><td>White</td><td>Yes</td><td>None</td><td>No </td><td>No </td><td><span style=white-space:pre-wrap>None     </span></td><td>4238</td></tr>\n",
              "\t<tr><td>225</td><td>&gt;= 2500 g</td><td>24</td><td>116</td><td>White</td><td>No </td><td>None</td><td>No </td><td>No </td><td><span style=white-space:pre-wrap>One      </span></td><td>4593</td></tr>\n",
              "\t<tr><td>226</td><td>&gt;= 2500 g</td><td>45</td><td>123</td><td>White</td><td>No </td><td>None</td><td>No </td><td>No </td><td><span style=white-space:pre-wrap>One      </span></td><td>4990</td></tr>\n",
              "</tbody>\n",
              "</table>\n"
            ],
            "text/markdown": "\nA data.frame: 189 × 11\n\n| id &lt;int&gt; | low &lt;fct&gt; | age &lt;int&gt; | lwt &lt;int&gt; | race &lt;fct&gt; | smoke &lt;fct&gt; | ptl &lt;fct&gt; | ht &lt;fct&gt; | ui &lt;fct&gt; | ftv &lt;fct&gt; | bwt &lt;int&gt; |\n|---|---|---|---|---|---|---|---|---|---|---|\n|  4 | &lt; 2500 g | 28 | 120 | Other | Yes | One       | No  | Yes | None      |  709 |\n| 10 | &lt; 2500 g | 29 | 130 | White | No  | None      | No  | Yes | Two, etc. | 1021 |\n| 11 | &lt; 2500 g | 34 | 187 | Black | Yes | None      | Yes | No  | None      | 1135 |\n| 13 | &lt; 2500 g | 25 | 105 | Other | No  | One       | Yes | No  | None      | 1330 |\n| 15 | &lt; 2500 g | 25 |  85 | Other | No  | None      | No  | Yes | None      | 1474 |\n| 16 | &lt; 2500 g | 27 | 150 | Other | No  | None      | No  | No  | None      | 1588 |\n| 17 | &lt; 2500 g | 23 |  97 | Other | No  | None      | No  | Yes | One       | 1588 |\n| 18 | &lt; 2500 g | 24 | 128 | Black | No  | One       | No  | No  | One       | 1701 |\n| 19 | &lt; 2500 g | 24 | 132 | Other | No  | None      | Yes | No  | None      | 1729 |\n| 20 | &lt; 2500 g | 21 | 165 | White | Yes | None      | Yes | No  | One       | 1790 |\n| 22 | &lt; 2500 g | 32 | 105 | White | Yes | None      | No  | No  | None      | 1818 |\n| 23 | &lt; 2500 g | 19 |  91 | White | Yes | Two, etc. | No  | Yes | None      | 1885 |\n| 24 | &lt; 2500 g | 25 | 115 | Other | No  | None      | No  | No  | None      | 1893 |\n| 25 | &lt; 2500 g | 16 | 130 | Other | No  | None      | No  | No  | One       | 1899 |\n| 26 | &lt; 2500 g | 25 |  92 | White | Yes | None      | No  | No  | None      | 1928 |\n| 27 | &lt; 2500 g | 20 | 150 | White | Yes | None      | No  | No  | Two, etc. | 1928 |\n| 28 | &lt; 2500 g | 21 | 200 | Black | No  | None      | No  | Yes | Two, etc. | 1928 |\n| 29 | &lt; 2500 g | 24 | 155 | White | Yes | One       | No  | No  | None      | 1936 |\n| 30 | &lt; 2500 g | 21 | 103 | Other | No  | None      | No  | No  | None      | 1970 |\n| 31 | &lt; 2500 g | 20 | 125 | Other | No  | None      | No  | Yes | None      | 2055 |\n| 32 | &lt; 2500 g | 25 |  89 | Other | No  | Two, etc. | No  | No  | One       | 2055 |\n| 33 | &lt; 2500 g | 19 | 102 | White | No  | None      | No  | No  | Two, etc. | 2082 |\n| 34 | &lt; 2500 g | 19 | 112 | White | Yes | None      | No  | Yes | None      | 2084 |\n| 35 | &lt; 2500 g | 26 | 117 | White | Yes | One       | No  | No  | None      | 2084 |\n| 36 | &lt; 2500 g | 24 | 138 | White | No  | None      | No  | No  | None      | 2100 |\n| 37 | &lt; 2500 g | 17 | 130 | Other | Yes | One       | No  | Yes | None      | 2125 |\n| 40 | &lt; 2500 g | 20 | 120 | Black | Yes | None      | No  | No  | Two, etc. | 2126 |\n| 42 | &lt; 2500 g | 22 | 130 | White | Yes | One       | No  | Yes | One       | 2187 |\n| 43 | &lt; 2500 g | 27 | 130 | Black | No  | None      | No  | Yes | None      | 2187 |\n| 44 | &lt; 2500 g | 20 |  80 | Other | Yes | None      | No  | Yes | None      | 2211 |\n| ⋮ | ⋮ | ⋮ | ⋮ | ⋮ | ⋮ | ⋮ | ⋮ | ⋮ | ⋮ | ⋮ |\n| 196 | &gt;= 2500 g | 24 | 110 | White | No  | None | No  | No  | One       | 3728 |\n| 197 | &gt;= 2500 g | 19 | 184 | White | Yes | None | Yes | No  | None      | 3756 |\n| 199 | &gt;= 2500 g | 24 | 110 | Other | No  | One  | No  | No  | None      | 3770 |\n| 200 | &gt;= 2500 g | 23 | 110 | White | No  | None | No  | No  | One       | 3770 |\n| 201 | &gt;= 2500 g | 20 | 120 | Other | No  | None | No  | No  | None      | 3770 |\n| 202 | &gt;= 2500 g | 25 | 241 | Black | No  | None | Yes | No  | None      | 3790 |\n| 203 | &gt;= 2500 g | 30 | 112 | White | No  | None | No  | No  | One       | 3799 |\n| 204 | &gt;= 2500 g | 22 | 169 | White | No  | None | No  | No  | None      | 3827 |\n| 205 | &gt;= 2500 g | 18 | 120 | White | Yes | None | No  | No  | Two, etc. | 3856 |\n| 206 | &gt;= 2500 g | 16 | 170 | Black | No  | None | No  | No  | Two, etc. | 3860 |\n| 207 | &gt;= 2500 g | 32 | 186 | White | No  | None | No  | No  | Two, etc. | 3860 |\n| 208 | &gt;= 2500 g | 18 | 120 | Other | No  | None | No  | No  | One       | 3884 |\n| 209 | &gt;= 2500 g | 29 | 130 | White | Yes | None | No  | No  | Two, etc. | 3884 |\n| 210 | &gt;= 2500 g | 33 | 117 | White | No  | None | No  | Yes | One       | 3912 |\n| 211 | &gt;= 2500 g | 20 | 170 | White | Yes | None | No  | No  | None      | 3940 |\n| 212 | &gt;= 2500 g | 28 | 134 | Other | No  | None | No  | No  | One       | 3941 |\n| 213 | &gt;= 2500 g | 14 | 135 | White | No  | None | No  | No  | None      | 3941 |\n| 214 | &gt;= 2500 g | 28 | 130 | Other | No  | None | No  | No  | None      | 3969 |\n| 215 | &gt;= 2500 g | 25 | 120 | White | No  | None | No  | No  | Two, etc. | 3983 |\n| 216 | &gt;= 2500 g | 16 |  95 | Other | No  | None | No  | No  | One       | 3997 |\n| 217 | &gt;= 2500 g | 20 | 158 | White | No  | None | No  | No  | One       | 3997 |\n| 218 | &gt;= 2500 g | 26 | 160 | Other | No  | None | No  | No  | None      | 4054 |\n| 219 | &gt;= 2500 g | 21 | 115 | White | No  | None | No  | No  | One       | 4054 |\n| 220 | &gt;= 2500 g | 22 | 129 | White | No  | None | No  | No  | None      | 4111 |\n| 221 | &gt;= 2500 g | 25 | 130 | White | No  | None | No  | No  | Two, etc. | 4153 |\n| 222 | &gt;= 2500 g | 31 | 120 | White | No  | None | No  | No  | Two, etc. | 4167 |\n| 223 | &gt;= 2500 g | 35 | 170 | White | No  | One  | No  | No  | One       | 4174 |\n| 224 | &gt;= 2500 g | 19 | 120 | White | Yes | None | No  | No  | None      | 4238 |\n| 225 | &gt;= 2500 g | 24 | 116 | White | No  | None | No  | No  | One       | 4593 |\n| 226 | &gt;= 2500 g | 45 | 123 | White | No  | None | No  | No  | One       | 4990 |\n\n",
            "text/latex": "A data.frame: 189 × 11\n\\begin{tabular}{lllllllllll}\n id & low & age & lwt & race & smoke & ptl & ht & ui & ftv & bwt\\\\\n <int> & <fct> & <int> & <int> & <fct> & <fct> & <fct> & <fct> & <fct> & <fct> & <int>\\\\\n\\hline\n\t  4 & < 2500 g & 28 & 120 & Other & Yes & One       & No  & Yes & None      &  709\\\\\n\t 10 & < 2500 g & 29 & 130 & White & No  & None      & No  & Yes & Two, etc. & 1021\\\\\n\t 11 & < 2500 g & 34 & 187 & Black & Yes & None      & Yes & No  & None      & 1135\\\\\n\t 13 & < 2500 g & 25 & 105 & Other & No  & One       & Yes & No  & None      & 1330\\\\\n\t 15 & < 2500 g & 25 &  85 & Other & No  & None      & No  & Yes & None      & 1474\\\\\n\t 16 & < 2500 g & 27 & 150 & Other & No  & None      & No  & No  & None      & 1588\\\\\n\t 17 & < 2500 g & 23 &  97 & Other & No  & None      & No  & Yes & One       & 1588\\\\\n\t 18 & < 2500 g & 24 & 128 & Black & No  & One       & No  & No  & One       & 1701\\\\\n\t 19 & < 2500 g & 24 & 132 & Other & No  & None      & Yes & No  & None      & 1729\\\\\n\t 20 & < 2500 g & 21 & 165 & White & Yes & None      & Yes & No  & One       & 1790\\\\\n\t 22 & < 2500 g & 32 & 105 & White & Yes & None      & No  & No  & None      & 1818\\\\\n\t 23 & < 2500 g & 19 &  91 & White & Yes & Two, etc. & No  & Yes & None      & 1885\\\\\n\t 24 & < 2500 g & 25 & 115 & Other & No  & None      & No  & No  & None      & 1893\\\\\n\t 25 & < 2500 g & 16 & 130 & Other & No  & None      & No  & No  & One       & 1899\\\\\n\t 26 & < 2500 g & 25 &  92 & White & Yes & None      & No  & No  & None      & 1928\\\\\n\t 27 & < 2500 g & 20 & 150 & White & Yes & None      & No  & No  & Two, etc. & 1928\\\\\n\t 28 & < 2500 g & 21 & 200 & Black & No  & None      & No  & Yes & Two, etc. & 1928\\\\\n\t 29 & < 2500 g & 24 & 155 & White & Yes & One       & No  & No  & None      & 1936\\\\\n\t 30 & < 2500 g & 21 & 103 & Other & No  & None      & No  & No  & None      & 1970\\\\\n\t 31 & < 2500 g & 20 & 125 & Other & No  & None      & No  & Yes & None      & 2055\\\\\n\t 32 & < 2500 g & 25 &  89 & Other & No  & Two, etc. & No  & No  & One       & 2055\\\\\n\t 33 & < 2500 g & 19 & 102 & White & No  & None      & No  & No  & Two, etc. & 2082\\\\\n\t 34 & < 2500 g & 19 & 112 & White & Yes & None      & No  & Yes & None      & 2084\\\\\n\t 35 & < 2500 g & 26 & 117 & White & Yes & One       & No  & No  & None      & 2084\\\\\n\t 36 & < 2500 g & 24 & 138 & White & No  & None      & No  & No  & None      & 2100\\\\\n\t 37 & < 2500 g & 17 & 130 & Other & Yes & One       & No  & Yes & None      & 2125\\\\\n\t 40 & < 2500 g & 20 & 120 & Black & Yes & None      & No  & No  & Two, etc. & 2126\\\\\n\t 42 & < 2500 g & 22 & 130 & White & Yes & One       & No  & Yes & One       & 2187\\\\\n\t 43 & < 2500 g & 27 & 130 & Black & No  & None      & No  & Yes & None      & 2187\\\\\n\t 44 & < 2500 g & 20 &  80 & Other & Yes & None      & No  & Yes & None      & 2211\\\\\n\t ⋮ & ⋮ & ⋮ & ⋮ & ⋮ & ⋮ & ⋮ & ⋮ & ⋮ & ⋮ & ⋮\\\\\n\t 196 & >= 2500 g & 24 & 110 & White & No  & None & No  & No  & One       & 3728\\\\\n\t 197 & >= 2500 g & 19 & 184 & White & Yes & None & Yes & No  & None      & 3756\\\\\n\t 199 & >= 2500 g & 24 & 110 & Other & No  & One  & No  & No  & None      & 3770\\\\\n\t 200 & >= 2500 g & 23 & 110 & White & No  & None & No  & No  & One       & 3770\\\\\n\t 201 & >= 2500 g & 20 & 120 & Other & No  & None & No  & No  & None      & 3770\\\\\n\t 202 & >= 2500 g & 25 & 241 & Black & No  & None & Yes & No  & None      & 3790\\\\\n\t 203 & >= 2500 g & 30 & 112 & White & No  & None & No  & No  & One       & 3799\\\\\n\t 204 & >= 2500 g & 22 & 169 & White & No  & None & No  & No  & None      & 3827\\\\\n\t 205 & >= 2500 g & 18 & 120 & White & Yes & None & No  & No  & Two, etc. & 3856\\\\\n\t 206 & >= 2500 g & 16 & 170 & Black & No  & None & No  & No  & Two, etc. & 3860\\\\\n\t 207 & >= 2500 g & 32 & 186 & White & No  & None & No  & No  & Two, etc. & 3860\\\\\n\t 208 & >= 2500 g & 18 & 120 & Other & No  & None & No  & No  & One       & 3884\\\\\n\t 209 & >= 2500 g & 29 & 130 & White & Yes & None & No  & No  & Two, etc. & 3884\\\\\n\t 210 & >= 2500 g & 33 & 117 & White & No  & None & No  & Yes & One       & 3912\\\\\n\t 211 & >= 2500 g & 20 & 170 & White & Yes & None & No  & No  & None      & 3940\\\\\n\t 212 & >= 2500 g & 28 & 134 & Other & No  & None & No  & No  & One       & 3941\\\\\n\t 213 & >= 2500 g & 14 & 135 & White & No  & None & No  & No  & None      & 3941\\\\\n\t 214 & >= 2500 g & 28 & 130 & Other & No  & None & No  & No  & None      & 3969\\\\\n\t 215 & >= 2500 g & 25 & 120 & White & No  & None & No  & No  & Two, etc. & 3983\\\\\n\t 216 & >= 2500 g & 16 &  95 & Other & No  & None & No  & No  & One       & 3997\\\\\n\t 217 & >= 2500 g & 20 & 158 & White & No  & None & No  & No  & One       & 3997\\\\\n\t 218 & >= 2500 g & 26 & 160 & Other & No  & None & No  & No  & None      & 4054\\\\\n\t 219 & >= 2500 g & 21 & 115 & White & No  & None & No  & No  & One       & 4054\\\\\n\t 220 & >= 2500 g & 22 & 129 & White & No  & None & No  & No  & None      & 4111\\\\\n\t 221 & >= 2500 g & 25 & 130 & White & No  & None & No  & No  & Two, etc. & 4153\\\\\n\t 222 & >= 2500 g & 31 & 120 & White & No  & None & No  & No  & Two, etc. & 4167\\\\\n\t 223 & >= 2500 g & 35 & 170 & White & No  & One  & No  & No  & One       & 4174\\\\\n\t 224 & >= 2500 g & 19 & 120 & White & Yes & None & No  & No  & None      & 4238\\\\\n\t 225 & >= 2500 g & 24 & 116 & White & No  & None & No  & No  & One       & 4593\\\\\n\t 226 & >= 2500 g & 45 & 123 & White & No  & None & No  & No  & One       & 4990\\\\\n\\end{tabular}\n",
            "text/plain": [
              "    id  low       age lwt race  smoke ptl       ht  ui  ftv       bwt \n",
              "1    4  < 2500 g  28  120 Other Yes   One       No  Yes None       709\n",
              "2   10  < 2500 g  29  130 White No    None      No  Yes Two, etc. 1021\n",
              "3   11  < 2500 g  34  187 Black Yes   None      Yes No  None      1135\n",
              "4   13  < 2500 g  25  105 Other No    One       Yes No  None      1330\n",
              "5   15  < 2500 g  25   85 Other No    None      No  Yes None      1474\n",
              "6   16  < 2500 g  27  150 Other No    None      No  No  None      1588\n",
              "7   17  < 2500 g  23   97 Other No    None      No  Yes One       1588\n",
              "8   18  < 2500 g  24  128 Black No    One       No  No  One       1701\n",
              "9   19  < 2500 g  24  132 Other No    None      Yes No  None      1729\n",
              "10  20  < 2500 g  21  165 White Yes   None      Yes No  One       1790\n",
              "11  22  < 2500 g  32  105 White Yes   None      No  No  None      1818\n",
              "12  23  < 2500 g  19   91 White Yes   Two, etc. No  Yes None      1885\n",
              "13  24  < 2500 g  25  115 Other No    None      No  No  None      1893\n",
              "14  25  < 2500 g  16  130 Other No    None      No  No  One       1899\n",
              "15  26  < 2500 g  25   92 White Yes   None      No  No  None      1928\n",
              "16  27  < 2500 g  20  150 White Yes   None      No  No  Two, etc. 1928\n",
              "17  28  < 2500 g  21  200 Black No    None      No  Yes Two, etc. 1928\n",
              "18  29  < 2500 g  24  155 White Yes   One       No  No  None      1936\n",
              "19  30  < 2500 g  21  103 Other No    None      No  No  None      1970\n",
              "20  31  < 2500 g  20  125 Other No    None      No  Yes None      2055\n",
              "21  32  < 2500 g  25   89 Other No    Two, etc. No  No  One       2055\n",
              "22  33  < 2500 g  19  102 White No    None      No  No  Two, etc. 2082\n",
              "23  34  < 2500 g  19  112 White Yes   None      No  Yes None      2084\n",
              "24  35  < 2500 g  26  117 White Yes   One       No  No  None      2084\n",
              "25  36  < 2500 g  24  138 White No    None      No  No  None      2100\n",
              "26  37  < 2500 g  17  130 Other Yes   One       No  Yes None      2125\n",
              "27  40  < 2500 g  20  120 Black Yes   None      No  No  Two, etc. 2126\n",
              "28  42  < 2500 g  22  130 White Yes   One       No  Yes One       2187\n",
              "29  43  < 2500 g  27  130 Black No    None      No  Yes None      2187\n",
              "30  44  < 2500 g  20   80 Other Yes   None      No  Yes None      2211\n",
              "⋮   ⋮   ⋮         ⋮   ⋮   ⋮     ⋮     ⋮         ⋮   ⋮   ⋮         ⋮   \n",
              "160 196 >= 2500 g 24  110 White No    None      No  No  One       3728\n",
              "161 197 >= 2500 g 19  184 White Yes   None      Yes No  None      3756\n",
              "162 199 >= 2500 g 24  110 Other No    One       No  No  None      3770\n",
              "163 200 >= 2500 g 23  110 White No    None      No  No  One       3770\n",
              "164 201 >= 2500 g 20  120 Other No    None      No  No  None      3770\n",
              "165 202 >= 2500 g 25  241 Black No    None      Yes No  None      3790\n",
              "166 203 >= 2500 g 30  112 White No    None      No  No  One       3799\n",
              "167 204 >= 2500 g 22  169 White No    None      No  No  None      3827\n",
              "168 205 >= 2500 g 18  120 White Yes   None      No  No  Two, etc. 3856\n",
              "169 206 >= 2500 g 16  170 Black No    None      No  No  Two, etc. 3860\n",
              "170 207 >= 2500 g 32  186 White No    None      No  No  Two, etc. 3860\n",
              "171 208 >= 2500 g 18  120 Other No    None      No  No  One       3884\n",
              "172 209 >= 2500 g 29  130 White Yes   None      No  No  Two, etc. 3884\n",
              "173 210 >= 2500 g 33  117 White No    None      No  Yes One       3912\n",
              "174 211 >= 2500 g 20  170 White Yes   None      No  No  None      3940\n",
              "175 212 >= 2500 g 28  134 Other No    None      No  No  One       3941\n",
              "176 213 >= 2500 g 14  135 White No    None      No  No  None      3941\n",
              "177 214 >= 2500 g 28  130 Other No    None      No  No  None      3969\n",
              "178 215 >= 2500 g 25  120 White No    None      No  No  Two, etc. 3983\n",
              "179 216 >= 2500 g 16   95 Other No    None      No  No  One       3997\n",
              "180 217 >= 2500 g 20  158 White No    None      No  No  One       3997\n",
              "181 218 >= 2500 g 26  160 Other No    None      No  No  None      4054\n",
              "182 219 >= 2500 g 21  115 White No    None      No  No  One       4054\n",
              "183 220 >= 2500 g 22  129 White No    None      No  No  None      4111\n",
              "184 221 >= 2500 g 25  130 White No    None      No  No  Two, etc. 4153\n",
              "185 222 >= 2500 g 31  120 White No    None      No  No  Two, etc. 4167\n",
              "186 223 >= 2500 g 35  170 White No    One       No  No  One       4174\n",
              "187 224 >= 2500 g 19  120 White Yes   None      No  No  None      4238\n",
              "188 225 >= 2500 g 24  116 White No    None      No  No  One       4593\n",
              "189 226 >= 2500 g 45  123 White No    None      No  No  One       4990"
            ]
          },
          "metadata": {}
        }
      ],
      "source": [
        "install.packages('aplore3')\n",
        "install.packages('ResourceSelection')\n",
        "library(aplore3)\n",
        "library(ResourceSelection)\n",
        "library(stats)\n",
        "data(lowbwt)\n",
        "lowbwt"
      ]
    },
    {
      "cell_type": "markdown",
      "source": [
        "# Análise Descritiva\n",
        "PAra a regressão logística iremos utilizar as 4 variáveis:\n",
        "- low\n",
        "- age\n",
        "- lwt\n",
        "- smoke\n",
        "Sendo low a variável resposta, age e lwt covariáveis preditoras numéricas e smoke uma covariável preditora categórica (fator)\n",
        "Para realizar a análise descritiva iremos iniciar realizando boxplots das idads das mães pelo peso do bebê."
      ],
      "metadata": {
        "id": "DDwGB0KgGWa9"
      }
    },
    {
      "cell_type": "code",
      "source": [
        "library(ggplot2)\n",
        "theme_set(theme_bw())\n",
        "\n",
        "ggplot(data=lowbwt, aes(x = low, y = age)) + geom_boxplot() + labs(x = \"Peso do bebê\", y = \"Idade\")"
      ],
      "metadata": {
        "colab": {
          "base_uri": "https://localhost:8080/",
          "height": 437
        },
        "id": "7k0xS175FNUg",
        "outputId": "b8ce5571-6dbb-4367-a1bc-e3d080f5b9c4"
      },
      "execution_count": 3,
      "outputs": [
        {
          "output_type": "display_data",
          "data": {
            "text/plain": [
              "plot without title"
            ],
            "image/png": "[encoded data removed]"
          },
          "metadata": {
            "image/png": {
              "width": 420,
              "height": 420
            }
          }
        }
      ]
    },
    {
      "cell_type": "markdown",
      "source": [
        "É possível perceber que não há uma diferença significativa entre os dois grupos. Ou seja, provavelmente a idade da mãe não deve ter significâcia no modelo.\n",
        "\n",
        "Em um segundo boxplot, temos o peso da mãe e o peso do bebê ao nascer."
      ],
      "metadata": {
        "id": "tWXbKVbpHeAk"
      }
    },
    {
      "cell_type": "code",
      "source": [
        "ggplot(data=lowbwt, aes(x = low, y = lwt)) +\n",
        "  geom_boxplot() +\n",
        "  labs(x = \"Peso do bebê\", y = \"Peso da mãe (Libras)\")"
      ],
      "metadata": {
        "colab": {
          "base_uri": "https://localhost:8080/",
          "height": 437
        },
        "id": "AZfGklgUHMys",
        "outputId": "aa7ea34b-3d25-4d23-a878-0925b0d19725"
      },
      "execution_count": 5,
      "outputs": [
        {
          "output_type": "display_data",
          "data": {
            "text/plain": [
              "plot without title"
            ],
            "image/png": "[encoded data removed]"
          },
          "metadata": {
            "image/png": {
              "width": 420,
              "height": 420
            }
          }
        }
      ]
    },
    {
      "cell_type": "markdown",
      "source": [
        "Agora iremos analisar se a mãe fumou pelo peso do bebê."
      ],
      "metadata": {
        "id": "dEYbjuE1IICS"
      }
    },
    {
      "cell_type": "code",
      "source": [
        "table(lowbwt$smoke, lowbwt$low) # tabela de contingência"
      ],
      "metadata": {
        "colab": {
          "base_uri": "https://localhost:8080/",
          "height": 91
        },
        "id": "KxtZx7-YH0Ww",
        "outputId": "eb4074f1-6527-493b-aef3-3bb2612dfc57"
      },
      "execution_count": 6,
      "outputs": [
        {
          "output_type": "display_data",
          "data": {
            "text/plain": [
              "     \n",
              "      >= 2500 g < 2500 g\n",
              "  No         86       29\n",
              "  Yes        44       30"
            ]
          },
          "metadata": {}
        }
      ]
    },
    {
      "cell_type": "markdown",
      "source": [
        "## Transformando todaqs as variáveis em Dummies\n",
        "Obs: É importante verificar se as variáveis fatores estão realmente como fatores."
      ],
      "metadata": {
        "id": "XF-iiVX8LcSe"
      }
    },
    {
      "cell_type": "code",
      "source": [
        "class(lowbwt$low)"
      ],
      "metadata": {
        "colab": {
          "base_uri": "https://localhost:8080/",
          "height": 34
        },
        "id": "o9_fSrElIORs",
        "outputId": "13df9822-75e9-4581-e5d9-c33bcfa23a7f"
      },
      "execution_count": 7,
      "outputs": [
        {
          "output_type": "display_data",
          "data": {
            "text/html": [
              "'factor'"
            ],
            "text/markdown": "'factor'",
            "text/latex": "'factor'",
            "text/plain": [
              "[1] \"factor\""
            ]
          },
          "metadata": {}
        }
      ]
    },
    {
      "cell_type": "code",
      "source": [
        "class(lowbwt$smoke)"
      ],
      "metadata": {
        "colab": {
          "base_uri": "https://localhost:8080/",
          "height": 34
        },
        "id": "1n7bj0qmLpBg",
        "outputId": "7e0e0def-5add-4fd5-cb88-175254d81c59"
      },
      "execution_count": 8,
      "outputs": [
        {
          "output_type": "display_data",
          "data": {
            "text/html": [
              "'factor'"
            ],
            "text/markdown": "'factor'",
            "text/latex": "'factor'",
            "text/plain": [
              "[1] \"factor\""
            ]
          },
          "metadata": {}
        }
      ]
    },
    {
      "cell_type": "code",
      "source": [
        "levels(lowbwt$low) = c(0, 1)\n",
        "levels(lowbwt$smoke) = c(0, 1)"
      ],
      "metadata": {
        "id": "LNYuAodmLrFt"
      },
      "execution_count": 11,
      "outputs": []
    },
    {
      "cell_type": "markdown",
      "source": [
        "# Modelagem\n",
        "Queremos estimar a probabilidade de um bebê ter peso menor que 2500g ao nascer, a partir da idade da mãe, do peso dela no último período menstrual e se ela fumou durante a gravidez.\n",
        "\n",
        "O GLM usando o argumento family = binomial, por default, usa a função de ligação logito."
      ],
      "metadata": {
        "id": "H2SIlOBoLzX9"
      }
    },
    {
      "cell_type": "code",
      "source": [
        "ajuste1 <- glm(low ~ age, family = binomial, data = lowbwt)"
      ],
      "metadata": {
        "id": "cQMjGPwqLu1y"
      },
      "execution_count": 12,
      "outputs": []
    },
    {
      "cell_type": "markdown",
      "source": [
        "## Resumo das estatísticas do modelo"
      ],
      "metadata": {
        "id": "WjfmIAjWMWW1"
      }
    },
    {
      "cell_type": "code",
      "source": [
        "summary(ajuste1)"
      ],
      "metadata": {
        "colab": {
          "base_uri": "https://localhost:8080/",
          "height": 312
        },
        "id": "6JZaMAJ6MU4D",
        "outputId": "c3192348-ae64-4494-bd47-8a9a0fdf702b"
      },
      "execution_count": 13,
      "outputs": [
        {
          "output_type": "display_data",
          "data": {
            "text/plain": [
              "\n",
              "Call:\n",
              "glm(formula = low ~ age, family = binomial, data = lowbwt)\n",
              "\n",
              "Coefficients:\n",
              "            Estimate Std. Error z value Pr(>|z|)\n",
              "(Intercept)  0.38458    0.73212   0.525    0.599\n",
              "age         -0.05115    0.03151  -1.623    0.105\n",
              "\n",
              "(Dispersion parameter for binomial family taken to be 1)\n",
              "\n",
              "    Null deviance: 234.67  on 188  degrees of freedom\n",
              "Residual deviance: 231.91  on 187  degrees of freedom\n",
              "AIC: 235.91\n",
              "\n",
              "Number of Fisher Scoring iterations: 4\n"
            ]
          },
          "metadata": {}
        }
      ]
    },
    {
      "cell_type": "markdown",
      "source": [
        "Considerando um nível de 5% de significância, a idade da mãe não influencia no modelo, já que seu p-valor é igual a 0.105 para testar a hipótesede que o respectivo parâmetro é igual a zero, usando a estatística de Wald.\n",
        "\n",
        "Vamos repetir o processo com o peso da mãe."
      ],
      "metadata": {
        "id": "PSO2u2H7NKJE"
      }
    },
    {
      "cell_type": "code",
      "source": [
        "ajuste2 <- glm(low ~ lwt, family = binomial, data = lowbwt)\n",
        "summary(ajuste2)"
      ],
      "metadata": {
        "colab": {
          "base_uri": "https://localhost:8080/",
          "height": 349
        },
        "id": "-3pcgL9zMaT1",
        "outputId": "751a3cd2-e9d6-450f-db3b-204dd58fc4fb"
      },
      "execution_count": 14,
      "outputs": [
        {
          "output_type": "display_data",
          "data": {
            "text/plain": [
              "\n",
              "Call:\n",
              "glm(formula = low ~ lwt, family = binomial, data = lowbwt)\n",
              "\n",
              "Coefficients:\n",
              "            Estimate Std. Error z value Pr(>|z|)  \n",
              "(Intercept)  0.99831    0.78529   1.271   0.2036  \n",
              "lwt         -0.01406    0.00617  -2.279   0.0227 *\n",
              "---\n",
              "Signif. codes:  0 ‘***’ 0.001 ‘**’ 0.01 ‘*’ 0.05 ‘.’ 0.1 ‘ ’ 1\n",
              "\n",
              "(Dispersion parameter for binomial family taken to be 1)\n",
              "\n",
              "    Null deviance: 234.67  on 188  degrees of freedom\n",
              "Residual deviance: 228.69  on 187  degrees of freedom\n",
              "AIC: 232.69\n",
              "\n",
              "Number of Fisher Scoring iterations: 4\n"
            ]
          },
          "metadata": {}
        }
      ]
    },
    {
      "cell_type": "markdown",
      "source": [
        "Considerando 5% de significância, a estatística de Wald mostra que o peso da mãe é significativo para o modelo (p=0.0227).\n",
        "\n",
        "O Terceito ajuste usa a variável indicadora de fumo da mãe durante o parto."
      ],
      "metadata": {
        "id": "H8QjoMNgNyV7"
      }
    },
    {
      "cell_type": "code",
      "source": [
        "ajuste3 <- glm(low ~ smoke, family = binomial, data = lowbwt)\n",
        "summary(ajuste3)"
      ],
      "metadata": {
        "colab": {
          "base_uri": "https://localhost:8080/",
          "height": 349
        },
        "id": "FO9HIBtwNg48",
        "outputId": "bdf778b7-7ccc-481b-edd1-7178d61eaacd"
      },
      "execution_count": 16,
      "outputs": [
        {
          "output_type": "display_data",
          "data": {
            "text/plain": [
              "\n",
              "Call:\n",
              "glm(formula = low ~ smoke, family = binomial, data = lowbwt)\n",
              "\n",
              "Coefficients:\n",
              "            Estimate Std. Error z value Pr(>|z|)    \n",
              "(Intercept)  -1.0871     0.2147  -5.062 4.14e-07 ***\n",
              "smoke1        0.7041     0.3196   2.203   0.0276 *  \n",
              "---\n",
              "Signif. codes:  0 ‘***’ 0.001 ‘**’ 0.01 ‘*’ 0.05 ‘.’ 0.1 ‘ ’ 1\n",
              "\n",
              "(Dispersion parameter for binomial family taken to be 1)\n",
              "\n",
              "    Null deviance: 234.67  on 188  degrees of freedom\n",
              "Residual deviance: 229.80  on 187  degrees of freedom\n",
              "AIC: 233.8\n",
              "\n",
              "Number of Fisher Scoring iterations: 4\n"
            ]
          },
          "metadata": {}
        }
      ]
    },
    {
      "cell_type": "markdown",
      "source": [
        "As mães fumantes apresentam uma probabilidade de ter um filho mais leve maior que as não fumantes (p=0.0276).\n",
        "\n",
        "realizar um ajuste com as duas variávels que foram significativas."
      ],
      "metadata": {
        "id": "QDFh1IiuOXdj"
      }
    },
    {
      "cell_type": "code",
      "source": [
        "ajuste4 <- glm(low ~ lwt + smoke, family=binomial, data=lowbwt)\n",
        "summary(ajuste4)"
      ],
      "metadata": {
        "colab": {
          "base_uri": "https://localhost:8080/",
          "height": 368
        },
        "id": "ytaqpIw4OHOe",
        "outputId": "8ee3c950-8817-4f34-af18-7e0c2b299917"
      },
      "execution_count": 17,
      "outputs": [
        {
          "output_type": "display_data",
          "data": {
            "text/plain": [
              "\n",
              "Call:\n",
              "glm(formula = low ~ lwt + smoke, family = binomial, data = lowbwt)\n",
              "\n",
              "Coefficients:\n",
              "            Estimate Std. Error z value Pr(>|z|)  \n",
              "(Intercept)  0.62200    0.79592   0.781   0.4345  \n",
              "lwt         -0.01332    0.00609  -2.188   0.0287 *\n",
              "smoke1       0.67667    0.32470   2.084   0.0372 *\n",
              "---\n",
              "Signif. codes:  0 ‘***’ 0.001 ‘**’ 0.01 ‘*’ 0.05 ‘.’ 0.1 ‘ ’ 1\n",
              "\n",
              "(Dispersion parameter for binomial family taken to be 1)\n",
              "\n",
              "    Null deviance: 234.67  on 188  degrees of freedom\n",
              "Residual deviance: 224.34  on 186  degrees of freedom\n",
              "AIC: 230.34\n",
              "\n",
              "Number of Fisher Scoring iterations: 4\n"
            ]
          },
          "metadata": {}
        }
      ]
    },
    {
      "cell_type": "markdown",
      "source": [
        "Vamos utilizar a tabela ANOVA com testes da máxima verossimilhança para verificar a significância do modelo completo"
      ],
      "metadata": {
        "id": "c_Bc3jbnPKnR"
      }
    },
    {
      "cell_type": "code",
      "source": [
        "anova(ajuste4, test=\"Chisq\")"
      ],
      "metadata": {
        "colab": {
          "base_uri": "https://localhost:8080/",
          "height": 192
        },
        "id": "6-XcrVnuPG5J",
        "outputId": "d78b9fe2-df6a-45a3-bd3c-b02382bf6157"
      },
      "execution_count": 18,
      "outputs": [
        {
          "output_type": "display_data",
          "data": {
            "text/html": [
              "<table class=\"dataframe\">\n",
              "<caption>A anova: 3 × 5</caption>\n",
              "<thead>\n",
              "\t<tr><th></th><th scope=col>Df</th><th scope=col>Deviance</th><th scope=col>Resid. Df</th><th scope=col>Resid. Dev</th><th scope=col>Pr(&gt;Chi)</th></tr>\n",
              "\t<tr><th></th><th scope=col>&lt;int&gt;</th><th scope=col>&lt;dbl&gt;</th><th scope=col>&lt;int&gt;</th><th scope=col>&lt;dbl&gt;</th><th scope=col>&lt;dbl&gt;</th></tr>\n",
              "</thead>\n",
              "<tbody>\n",
              "\t<tr><th scope=row>NULL</th><td>NA</td><td>      NA</td><td>188</td><td>234.6720</td><td>        NA</td></tr>\n",
              "\t<tr><th scope=row>lwt</th><td> 1</td><td>5.981327</td><td>187</td><td>228.6907</td><td>0.01445812</td></tr>\n",
              "\t<tr><th scope=row>smoke</th><td> 1</td><td>4.350018</td><td>186</td><td>224.3407</td><td>0.03700855</td></tr>\n",
              "</tbody>\n",
              "</table>\n"
            ],
            "text/markdown": "\nA anova: 3 × 5\n\n| <!--/--> | Df &lt;int&gt; | Deviance &lt;dbl&gt; | Resid. Df &lt;int&gt; | Resid. Dev &lt;dbl&gt; | Pr(&gt;Chi) &lt;dbl&gt; |\n|---|---|---|---|---|---|\n| NULL | NA |       NA | 188 | 234.6720 |         NA |\n| lwt |  1 | 5.981327 | 187 | 228.6907 | 0.01445812 |\n| smoke |  1 | 4.350018 | 186 | 224.3407 | 0.03700855 |\n\n",
            "text/latex": "A anova: 3 × 5\n\\begin{tabular}{r|lllll}\n  & Df & Deviance & Resid. Df & Resid. Dev & Pr(>Chi)\\\\\n  & <int> & <dbl> & <int> & <dbl> & <dbl>\\\\\n\\hline\n\tNULL & NA &       NA & 188 & 234.6720 &         NA\\\\\n\tlwt &  1 & 5.981327 & 187 & 228.6907 & 0.01445812\\\\\n\tsmoke &  1 & 4.350018 & 186 & 224.3407 & 0.03700855\\\\\n\\end{tabular}\n",
            "text/plain": [
              "      Df Deviance Resid. Df Resid. Dev Pr(>Chi)  \n",
              "NULL  NA       NA 188       234.6720           NA\n",
              "lwt    1 5.981327 187       228.6907   0.01445812\n",
              "smoke  1 4.350018 186       224.3407   0.03700855"
            ]
          },
          "metadata": {}
        }
      ]
    },
    {
      "cell_type": "code",
      "source": [
        "anova(ajuste3, ajuste4, test=\"Chisq\")"
      ],
      "metadata": {
        "colab": {
          "base_uri": "https://localhost:8080/",
          "height": 161
        },
        "id": "xM7tsu-rPSnZ",
        "outputId": "8a69d3cd-9a3c-4b97-a57c-40643d4872a7"
      },
      "execution_count": 19,
      "outputs": [
        {
          "output_type": "display_data",
          "data": {
            "text/html": [
              "<table class=\"dataframe\">\n",
              "<caption>A anova: 2 × 5</caption>\n",
              "<thead>\n",
              "\t<tr><th></th><th scope=col>Resid. Df</th><th scope=col>Resid. Dev</th><th scope=col>Df</th><th scope=col>Deviance</th><th scope=col>Pr(&gt;Chi)</th></tr>\n",
              "\t<tr><th></th><th scope=col>&lt;dbl&gt;</th><th scope=col>&lt;dbl&gt;</th><th scope=col>&lt;dbl&gt;</th><th scope=col>&lt;dbl&gt;</th><th scope=col>&lt;dbl&gt;</th></tr>\n",
              "</thead>\n",
              "<tbody>\n",
              "\t<tr><th scope=row>1</th><td>187</td><td>229.8046</td><td>NA</td><td>      NA</td><td>        NA</td></tr>\n",
              "\t<tr><th scope=row>2</th><td>186</td><td>224.3407</td><td> 1</td><td>5.463949</td><td>0.01941273</td></tr>\n",
              "</tbody>\n",
              "</table>\n"
            ],
            "text/markdown": "\nA anova: 2 × 5\n\n| <!--/--> | Resid. Df &lt;dbl&gt; | Resid. Dev &lt;dbl&gt; | Df &lt;dbl&gt; | Deviance &lt;dbl&gt; | Pr(&gt;Chi) &lt;dbl&gt; |\n|---|---|---|---|---|---|\n| 1 | 187 | 229.8046 | NA |       NA |         NA |\n| 2 | 186 | 224.3407 |  1 | 5.463949 | 0.01941273 |\n\n",
            "text/latex": "A anova: 2 × 5\n\\begin{tabular}{r|lllll}\n  & Resid. Df & Resid. Dev & Df & Deviance & Pr(>Chi)\\\\\n  & <dbl> & <dbl> & <dbl> & <dbl> & <dbl>\\\\\n\\hline\n\t1 & 187 & 229.8046 & NA &       NA &         NA\\\\\n\t2 & 186 & 224.3407 &  1 & 5.463949 & 0.01941273\\\\\n\\end{tabular}\n",
            "text/plain": [
              "  Resid. Df Resid. Dev Df Deviance Pr(>Chi)  \n",
              "1 187       229.8046   NA       NA         NA\n",
              "2 186       224.3407    1 5.463949 0.01941273"
            ]
          },
          "metadata": {}
        }
      ]
    },
    {
      "cell_type": "markdown",
      "source": [
        "Considerando ainda um nível de 5% de significância, o modelo com as variáveis lwt e smoke mostrou-se significativo."
      ],
      "metadata": {
        "id": "4y2ywRKVP3TI"
      }
    },
    {
      "cell_type": "markdown",
      "source": [
        "# Análise de Resíduos\n",
        "\n",
        "Análise do resíduo por Pearson \\\n",
        "1°: Gerar o gráfico de resíduos e verificar se tem valores acima de 2."
      ],
      "metadata": {
        "id": "44Ys3I-IP9Tg"
      }
    },
    {
      "cell_type": "code",
      "source": [
        "resp <- data.frame(indice = 1:nrow(lowbwt),\n",
        "                    residuos = residuals(ajuste4, type=\"deviance\")\n",
        ")\n",
        "\n",
        "ggplot(resp, aes(x=sample(indice), y = residuos)) +\n",
        "  geom_point() +\n",
        "  labs(x = \"Índice\", y = \"Resíduos\")"
      ],
      "metadata": {
        "colab": {
          "base_uri": "https://localhost:8080/",
          "height": 437
        },
        "id": "dyoBA-UDPrPr",
        "outputId": "13356d36-cd44-4ef3-f460-b8ee0348a87b"
      },
      "execution_count": 21,
      "outputs": [
        {
          "output_type": "display_data",
          "data": {
            "text/plain": [
              "plot without title"
            ],
            "image/png": "[encoded data removed]"
          },
          "metadata": {
            "image/png": {
              "width": 420,
              "height": 420
            }
          }
        }
      ]
    },
    {
      "cell_type": "markdown",
      "source": [
        "Como não temos valores que passam de 2 ou -2, no geral, os resíduos estão bem comportados."
      ],
      "metadata": {
        "id": "nM__Fc4pQliJ"
      }
    },
    {
      "cell_type": "markdown",
      "source": [
        "# Testes de adequação do modelo\n",
        "## 1. Pearson Chi-Square Test\n",
        "### Hipótese Testada:\n",
        "- $H_0$: O modelo ajusta bem os dados.\n",
        "- $H_a$: O modelo não ajusta bem os dados.\n",
        "\n",
        "### Condição de aceitação/rejeição:\n",
        "- Calcula-se a estatística do teste qui-quadrado de PEarson, que segue uma distribuição qui-quadrado com $n - p$ graus de liberdade.\n",
        "- Aceitação de $H_0$: Se o valor $p$ é maior que $\\alpha$ aceitamos $H_0$ e concluímos que o modelo ajusta bem os dados.\n",
        "- Rejeição de $H_0$: Se o valor $p$ é menor que $\\alpha$, rejeitamos $H_0$ e concluímos que o modelo não ajusta bem os dados."
      ],
      "metadata": {
        "id": "smTwu6QAQ8VG"
      }
    },
    {
      "cell_type": "code",
      "source": [
        "# Pearson Chi-Square Test\n",
        "pearson_residuals <- residuals(ajuste4, type=\"pearson\")\n",
        "pearson_chi2 <- sum(pearson_residuals^2)\n",
        "pearson_p_value <- 1 - pchisq(pearson_chi2, df.residual(ajuste4))\n",
        "cat(\"Pearson Chi-Square Test: Chi2 =\", pearson_chi2, \"p-value =\", pearson_p_value, \"\\n\")"
      ],
      "metadata": {
        "colab": {
          "base_uri": "https://localhost:8080/"
        },
        "id": "oWiBQd1EQRsK",
        "outputId": "b67a88bd-0f47-41be-cf74-5fb51be99fa1"
      },
      "execution_count": 23,
      "outputs": [
        {
          "output_type": "stream",
          "name": "stdout",
          "text": [
            "Pearson Chi-Square Test: Chi2 = 187.3828 p-value = 0.4577639 \n"
          ]
        }
      ]
    },
    {
      "cell_type": "code",
      "source": [],
      "metadata": {
        "id": "OGHgAmIMSEbt"
      },
      "execution_count": null,
      "outputs": []
    }
  ]
}